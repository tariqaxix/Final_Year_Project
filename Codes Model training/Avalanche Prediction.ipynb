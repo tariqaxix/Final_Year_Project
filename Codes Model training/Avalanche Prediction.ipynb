{
 "cells": [
  {
   "cell_type": "code",
   "execution_count": 22,
   "id": "111a9430",
   "metadata": {},
   "outputs": [
    {
     "data": {
      "text/html": [
       "<div>\n",
       "<style scoped>\n",
       "    .dataframe tbody tr th:only-of-type {\n",
       "        vertical-align: middle;\n",
       "    }\n",
       "\n",
       "    .dataframe tbody tr th {\n",
       "        vertical-align: top;\n",
       "    }\n",
       "\n",
       "    .dataframe thead th {\n",
       "        text-align: right;\n",
       "    }\n",
       "</style>\n",
       "<table border=\"1\" class=\"dataframe\">\n",
       "  <thead>\n",
       "    <tr style=\"text-align: right;\">\n",
       "      <th></th>\n",
       "      <th>danger_level</th>\n",
       "      <th>elevation</th>\n",
       "      <th>temperature</th>\n",
       "      <th>wind_speed</th>\n",
       "      <th>humidity</th>\n",
       "      <th>avalanche_act</th>\n",
       "      <th>snow_depth</th>\n",
       "    </tr>\n",
       "  </thead>\n",
       "  <tbody>\n",
       "    <tr>\n",
       "      <th>0</th>\n",
       "      <td>60.0</td>\n",
       "      <td>1980</td>\n",
       "      <td>8</td>\n",
       "      <td>34</td>\n",
       "      <td>58</td>\n",
       "      <td>1</td>\n",
       "      <td>3.113</td>\n",
       "    </tr>\n",
       "    <tr>\n",
       "      <th>1</th>\n",
       "      <td>40.0</td>\n",
       "      <td>2412</td>\n",
       "      <td>11</td>\n",
       "      <td>11</td>\n",
       "      <td>58</td>\n",
       "      <td>0</td>\n",
       "      <td>12.560</td>\n",
       "    </tr>\n",
       "    <tr>\n",
       "      <th>2</th>\n",
       "      <td>40.0</td>\n",
       "      <td>2520</td>\n",
       "      <td>-7</td>\n",
       "      <td>40</td>\n",
       "      <td>60</td>\n",
       "      <td>0</td>\n",
       "      <td>13.320</td>\n",
       "    </tr>\n",
       "    <tr>\n",
       "      <th>3</th>\n",
       "      <td>40.0</td>\n",
       "      <td>2338</td>\n",
       "      <td>11</td>\n",
       "      <td>29</td>\n",
       "      <td>62</td>\n",
       "      <td>0</td>\n",
       "      <td>12.090</td>\n",
       "    </tr>\n",
       "    <tr>\n",
       "      <th>4</th>\n",
       "      <td>60.0</td>\n",
       "      <td>2270</td>\n",
       "      <td>-32</td>\n",
       "      <td>27</td>\n",
       "      <td>63</td>\n",
       "      <td>0</td>\n",
       "      <td>14.840</td>\n",
       "    </tr>\n",
       "  </tbody>\n",
       "</table>\n",
       "</div>"
      ],
      "text/plain": [
       "   danger_level  elevation  temperature  wind_speed  humidity  avalanche_act  \\\n",
       "0          60.0       1980            8          34        58              1   \n",
       "1          40.0       2412           11          11        58              0   \n",
       "2          40.0       2520           -7          40        60              0   \n",
       "3          40.0       2338           11          29        62              0   \n",
       "4          60.0       2270          -32          27        63              0   \n",
       "\n",
       "   snow_depth  \n",
       "0       3.113  \n",
       "1      12.560  \n",
       "2      13.320  \n",
       "3      12.090  \n",
       "4      14.840  "
      ]
     },
     "execution_count": 22,
     "metadata": {},
     "output_type": "execute_result"
    }
   ],
   "source": [
    "import pandas as pd\n",
    "import numpy as np\n",
    "df = pd.read_csv(\"Avalanche_Activity.csv\")\n",
    "df.head()"
   ]
  },
  {
   "cell_type": "code",
   "execution_count": 23,
   "id": "73d04793",
   "metadata": {},
   "outputs": [
    {
     "data": {
      "text/plain": [
       "(30867, 7)"
      ]
     },
     "execution_count": 23,
     "metadata": {},
     "output_type": "execute_result"
    }
   ],
   "source": [
    "df.shape"
   ]
  },
  {
   "cell_type": "code",
   "execution_count": 24,
   "id": "3557a709",
   "metadata": {},
   "outputs": [
    {
     "name": "stdout",
     "output_type": "stream",
     "text": [
      "Class Distribution: Counter({0: 24585, 1: 6282})\n"
     ]
    }
   ],
   "source": [
    "import collections\n",
    "print(\"Class Distribution:\", collections.Counter(df['avalanche_act']))"
   ]
  },
  {
   "cell_type": "code",
   "execution_count": 25,
   "id": "5d5878bc",
   "metadata": {},
   "outputs": [
    {
     "name": "stdout",
     "output_type": "stream",
     "text": [
      "Resampled Class Distribution: Counter({0: 24585, 1: 12292})\n"
     ]
    },
    {
     "name": "stderr",
     "output_type": "stream",
     "text": [
      "C:\\Users\\tariq.aziz\\AppData\\Local\\Programs\\Python\\Python39\\lib\\site-packages\\sklearn\\base.py:474: FutureWarning: `BaseEstimator._validate_data` is deprecated in 1.6 and will be removed in 1.7. Use `sklearn.utils.validation.validate_data` instead. This function becomes public and is part of the scikit-learn developer API.\n",
      "  warnings.warn(\n"
     ]
    }
   ],
   "source": [
    "from imblearn.over_sampling import SMOTE\n",
    "from collections import Counter\n",
    "\n",
    "features = [\"elevation\", \"temperature\", \"wind_speed\", \"humidity\", \"snow_depth\"]\n",
    "target = \"avalanche_act\"\n",
    "\n",
    "X = df[features]\n",
    "y = df[target]\n",
    "\n",
    "smote = SMOTE(sampling_strategy=0.5, random_state=42)  \n",
    "X_resampled, y_resampled = smote.fit_resample(X, y)\n",
    "\n",
    "print(\"Resampled Class Distribution:\", Counter(y_resampled))\n"
   ]
  },
  {
   "cell_type": "code",
   "execution_count": 26,
   "id": "e1e9e09e",
   "metadata": {},
   "outputs": [
    {
     "data": {
      "text/plain": [
       "['avalanch_rf_model.pkl']"
      ]
     },
     "execution_count": 26,
     "metadata": {},
     "output_type": "execute_result"
    }
   ],
   "source": [
    "from sklearn.ensemble import RandomForestClassifier\n",
    "from sklearn.model_selection import train_test_split\n",
    "from sklearn.preprocessing import StandardScaler\n",
    "import joblib\n",
    "\n",
    "X_train, X_test, y_train, y_test = train_test_split(X_resampled, y_resampled, test_size=0.2, random_state=42, stratify=y_resampled)\n",
    "\n",
    "scaler = StandardScaler()\n",
    "X_train_scaled = scaler.fit_transform(X_train)\n",
    "X_test_scaled = scaler.transform(X_test)\n",
    "\n",
    "joblib.dump(scaler, \"avalanch_scaler.pkl\")\n",
    "\n",
    "avalanche_model = RandomForestClassifier(n_estimators=100, random_state=42)\n",
    "avalanche_model.fit(X_train_scaled, y_train)\n",
    "\n",
    "joblib.dump(avalanche_model, \"avalanch_rf_model.pkl\")"
   ]
  },
  {
   "cell_type": "code",
   "execution_count": 27,
   "id": "4df9865d",
   "metadata": {},
   "outputs": [
    {
     "name": "stdout",
     "output_type": "stream",
     "text": [
      "Accuracy: 0.8469360086767896\n",
      "Confusion Matrix:\n",
      " [[4539  378]\n",
      " [ 751 1708]]\n",
      "Classification Report:\n",
      "               precision    recall  f1-score   support\n",
      "\n",
      "           0       0.86      0.92      0.89      4917\n",
      "           1       0.82      0.69      0.75      2459\n",
      "\n",
      "    accuracy                           0.85      7376\n",
      "   macro avg       0.84      0.81      0.82      7376\n",
      "weighted avg       0.84      0.85      0.84      7376\n",
      "\n"
     ]
    }
   ],
   "source": [
    "from sklearn.metrics import classification_report, confusion_matrix, accuracy_score\n",
    "\n",
    "y_pred = avalanche_model.predict(X_test_scaled)\n",
    "\n",
    "print(\"Accuracy:\", accuracy_score(y_test, y_pred))\n",
    "print(\"Confusion Matrix:\\n\", confusion_matrix(y_test, y_pred))\n",
    "print(\"Classification Report:\\n\", classification_report(y_test, y_pred))"
   ]
  },
  {
   "cell_type": "code",
   "execution_count": 31,
   "id": "a5ad6b4b",
   "metadata": {},
   "outputs": [
    {
     "name": "stdout",
     "output_type": "stream",
     "text": [
      "Predicted Avalanche Risk Level: 0\n"
     ]
    },
    {
     "name": "stderr",
     "output_type": "stream",
     "text": [
      "C:\\Users\\tariq.aziz\\AppData\\Local\\Programs\\Python\\Python39\\lib\\site-packages\\sklearn\\utils\\validation.py:2739: UserWarning: X does not have valid feature names, but StandardScaler was fitted with feature names\n",
      "  warnings.warn(\n"
     ]
    }
   ],
   "source": [
    "# avalanche_model = joblib.load(r\"C:\\Users\\tariq.aziz\\OneDrive - University of Central Asia\\Documents\\FYYYYYPPPP\\avalanch_rf_model.pkl\")\n",
    "# avalanche_scaler = joblib.load(r\"C:\\Users\\tariq.aziz\\OneDrive - University of Central Asia\\Documents\\FYYYYYPPPP\\avalanch_scaler.pkl\")\n",
    "\n",
    "new_data = np.array([[2300, -3, 24, 4, 29]])\n",
    "\n",
    "new_data_scaled = avalanche_scaler.transform(new_data)\n",
    "\n",
    "prediction = avalanche_model.predict(new_data_scaled)\n",
    "print(\"Predicted Avalanche Risk Level:\", prediction[0])\n"
   ]
  }
 ],
 "metadata": {
  "kaggle": {
   "accelerator": "none",
   "dataSources": [
    {
     "datasetId": 430503,
     "sourceId": 818100,
     "sourceType": "datasetVersion"
    },
    {
     "datasetId": 4319381,
     "sourceId": 7423653,
     "sourceType": "datasetVersion"
    },
    {
     "datasetId": 4328277,
     "sourceId": 7436830,
     "sourceType": "datasetVersion"
    }
   ],
   "dockerImageVersionId": 30635,
   "isGpuEnabled": false,
   "isInternetEnabled": false,
   "language": "python",
   "sourceType": "notebook"
  },
  "kernelspec": {
   "display_name": "Python 3 (ipykernel)",
   "language": "python",
   "name": "python3"
  },
  "language_info": {
   "codemirror_mode": {
    "name": "ipython",
    "version": 3
   },
   "file_extension": ".py",
   "mimetype": "text/x-python",
   "name": "python",
   "nbconvert_exporter": "python",
   "pygments_lexer": "ipython3",
   "version": "3.9.2"
  },
  "papermill": {
   "default_parameters": {},
   "duration": 27.354033,
   "end_time": "2024-01-20T01:46:03.969630",
   "environment_variables": {},
   "exception": null,
   "input_path": "__notebook__.ipynb",
   "output_path": "__notebook__.ipynb",
   "parameters": {},
   "start_time": "2024-01-20T01:45:36.615597",
   "version": "2.4.0"
  }
 },
 "nbformat": 4,
 "nbformat_minor": 5
}
